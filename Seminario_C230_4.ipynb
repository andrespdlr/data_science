{
 "cells": [
  {
   "cell_type": "markdown",
   "metadata": {},
   "source": [
    "# Text Mining"
   ]
  },
  {
   "cell_type": "code",
   "execution_count": 1,
   "metadata": {
    "collapsed": true
   },
   "outputs": [],
   "source": [
    "import re\n",
    "import urllib\n",
    "from urllib import request\n",
    "from urllib.request import urlopen\n",
    "from bs4 import BeautifulSoup"
   ]
  },
  {
   "cell_type": "code",
   "execution_count": 15,
   "metadata": {
    "collapsed": true
   },
   "outputs": [],
   "source": [
    "diputados = []\n",
    "for diputado in range(500):\n",
    "    diputados.append(diputado + 1)\n",
    "    \n",
    "legislaturas = ['LXI', 'LXII', 'LXIII']\n",
    "\n",
    "url_curricula = 'http://sitl.diputados.gob.mx/{}_leg/curricula.php?dipt={}'"
   ]
  },
  {
   "cell_type": "code",
   "execution_count": 56,
   "metadata": {},
   "outputs": [],
   "source": [
    "def extract_html_congreso(url):\n",
    "    ''' Extracts the main content from a url and returns a list '''\n",
    "    html = urlopen(url).read().decode('latin-1')\n",
    "    soup = BeautifulSoup(html, \"lxml\")\n",
    "    raw = soup.get_text()\n",
    "    raw = re.sub(' +', ' ', raw)\n",
    "    raw = re.sub('\\x93', '\"', raw)\n",
    "    raw = re.sub('\\x94', '\"', raw)\n",
    "    raw = re.split(r'[\\t\\n\\xa0\\|]+', raw)\n",
    "    rv = []\n",
    "    for x in raw:\n",
    "        if x == ' ' or x == '':\n",
    "            pass\n",
    "        else:\n",
    "            rv.append(x.strip())    \n",
    "    return rv"
   ]
  },
  {
   "cell_type": "code",
   "execution_count": 70,
   "metadata": {
    "collapsed": true
   },
   "outputs": [],
   "source": [
    "def limpia_url_congreso(legislatura, diputado):\n",
    "    rv = []\n",
    "    url = url_curricula.format(legislatura, diputado)\n",
    "    dump = [ 'Iniciativas', 'Proposiciones', 'Asistencias', 'Votaciones en el Pleno']\n",
    "    lista_diputado = extract_html_congreso(url)\n",
    "    for x in lista_diputado:\n",
    "        if x in dump:\n",
    "            pass\n",
    "        else:\n",
    "            rv.append(x)\n",
    "    return rv"
   ]
  },
  {
   "cell_type": "code",
   "execution_count": 74,
   "metadata": {},
   "outputs": [
    {
     "data": {
      "text/plain": [
       "['Curricula LXIII',\n",
       " 'Dip. Gerardo Federico Salas Díaz',\n",
       " 'Tipo de elección:',\n",
       " 'Mayoría Relativa',\n",
       " 'Entidad:',\n",
       " 'Aguascalientes',\n",
       " 'Distrito:',\n",
       " '1',\n",
       " 'Curul:',\n",
       " 'K-498',\n",
       " 'Correo electrónico:',\n",
       " 'gerardo.salas@congreso.gob.mx',\n",
       " 'Onomástico:',\n",
       " '25-mayo',\n",
       " 'Suplente:',\n",
       " 'José de Jesús Valdez Gómez',\n",
       " 'ORDINARIA',\n",
       " 'Agricultura y Sistemas de Riego',\n",
       " 'Ciencia y Tecnología (Secretaría)',\n",
       " 'Ganadería (Secretaría)',\n",
       " 'ESPECIAL',\n",
       " 'De seguimiento al programa especial concurrente anexo 11.1',\n",
       " 'COMITÉ',\n",
       " 'Centro de Estudios para el Desarrollo Rural Sustentable y la Soberanía Alimentaria',\n",
       " 'GRUPO DE AMISTAD',\n",
       " 'Australia',\n",
       " 'Bélgica (Vicepresidencia)',\n",
       " 'Chile',\n",
       " 'ESCOLARIDAD',\n",
       " 'Maestría',\n",
       " 'Metodologías Sustentables para el Desarrollo Local',\n",
       " 'Diplomado',\n",
       " 'Metodologías Sustentables para el Desarrollo Local',\n",
       " 'Actividad Empresarial',\n",
       " 'Gerente Comercial México en Tecnomec Agrícola S.A. de C.V.',\n",
       " '11/02/2011',\n",
       " 'Director General de la Comisión para Desarrollo Agropecuario del Estado de Aguascalientes',\n",
       " 'CODEGEA',\n",
       " 'sep. 2008-nov. 2010']"
      ]
     },
     "execution_count": 74,
     "metadata": {},
     "output_type": "execute_result"
    }
   ],
   "source": [
    "limpia_url_congreso('LXIII', 1)"
   ]
  },
  {
   "cell_type": "code",
   "execution_count": null,
   "metadata": {
    "collapsed": true
   },
   "outputs": [],
   "source": []
  }
 ],
 "metadata": {
  "kernelspec": {
   "display_name": "Python 3",
   "language": "python",
   "name": "python3"
  },
  "language_info": {
   "codemirror_mode": {
    "name": "ipython",
    "version": 3
   },
   "file_extension": ".py",
   "mimetype": "text/x-python",
   "name": "python",
   "nbconvert_exporter": "python",
   "pygments_lexer": "ipython3",
   "version": "3.6.1"
  }
 },
 "nbformat": 4,
 "nbformat_minor": 2
}
