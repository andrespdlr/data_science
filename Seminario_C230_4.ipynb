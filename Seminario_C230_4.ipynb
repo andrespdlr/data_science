{
 "cells": [
  {
   "cell_type": "markdown",
   "metadata": {},
   "source": [
    "# Text Mining"
   ]
  },
  {
   "cell_type": "code",
   "execution_count": 64,
   "metadata": {
    "collapsed": true
   },
   "outputs": [],
   "source": [
    "import re\n",
    "import urllib\n",
    "from urllib import request\n",
    "from urllib.request import urlopen\n",
    "from bs4 import BeautifulSoup\n",
    "from random import randint\n",
    "import pandas as pd"
   ]
  },
  {
   "cell_type": "code",
   "execution_count": 65,
   "metadata": {
    "collapsed": true
   },
   "outputs": [],
   "source": [
    "diputados = []\n",
    "for diputado in range(500):\n",
    "    diputados.append(diputado + 1)\n",
    "    \n",
    "legislaturas = ['LXI', 'LXII', 'LXIII']\n",
    "\n",
    "url_curricula = 'http://sitl.diputados.gob.mx/{}_leg/curricula.php?dipt={}'"
   ]
  },
  {
   "cell_type": "code",
   "execution_count": 66,
   "metadata": {
    "collapsed": true
   },
   "outputs": [],
   "source": [
    "diputados_random = []\n",
    "for i in range(10):\n",
    "    diputado_random = randint(1, 500)\n",
    "    if diputado_random in diputados_random:\n",
    "        pass\n",
    "    else:\n",
    "        diputados_random.append(diputado_random)"
   ]
  },
  {
   "cell_type": "code",
   "execution_count": 67,
   "metadata": {
    "collapsed": true
   },
   "outputs": [],
   "source": [
    "def extract_html_congreso(url):\n",
    "    ''' Extracts the main content from a url and returns a list '''\n",
    "    html = urlopen(url).read().decode('latin-1')\n",
    "    soup = BeautifulSoup(html, \"lxml\")\n",
    "    raw = soup.get_text()\n",
    "    raw = re.sub(' +', ' ', raw)\n",
    "    raw = re.sub('\\x93', '\"', raw)\n",
    "    raw = re.sub('\\x94', '\"', raw)\n",
    "    raw = re.split(r'[\\t\\n\\xa0\\|]+', raw)\n",
    "    rv = []\n",
    "    for x in raw:\n",
    "        if x == ' ' or x == '':\n",
    "            pass\n",
    "        else:\n",
    "            rv.append(x.strip())    \n",
    "    return rv"
   ]
  },
  {
   "cell_type": "code",
   "execution_count": 68,
   "metadata": {
    "collapsed": true
   },
   "outputs": [],
   "source": [
    "def diputado_curricula(legislatura, diputado):\n",
    "    rv = []\n",
    "    url = url_curricula.format(legislatura, diputado)\n",
    "    dump = [ 'Iniciativas', 'Proposiciones', 'Asistencias', 'Votaciones en el Pleno']\n",
    "    lista_diputado = extract_html_congreso(url)\n",
    "    for x in lista_diputado:\n",
    "        if x in dump:\n",
    "            pass\n",
    "        else:\n",
    "            rv.append(x)\n",
    "    return rv"
   ]
  },
  {
   "cell_type": "code",
   "execution_count": 69,
   "metadata": {
    "collapsed": true
   },
   "outputs": [],
   "source": [
    "def diputado_nombre(string):\n",
    "    if 'Dip.' in string:\n",
    "        nombre = string.replace('Dip.', '') \n",
    "        return nombre.strip()\n",
    "    else:\n",
    "        return False"
   ]
  },
  {
   "cell_type": "code",
   "execution_count": 70,
   "metadata": {
    "collapsed": true
   },
   "outputs": [],
   "source": [
    "def diputado_mail(string):\n",
    "    if '@congreso.gob.mx' in string:\n",
    "        return string\n",
    "    else:\n",
    "        return False"
   ]
  },
  {
   "cell_type": "code",
   "execution_count": 71,
   "metadata": {
    "collapsed": true
   },
   "outputs": [],
   "source": [
    "def diputado_eleccion(curricula):\n",
    "    TE_index = curricula.index('Tipo de elección:')\n",
    "    eleccion = curricula[TE_index + 1]\n",
    "    return eleccion"
   ]
  },
  {
   "cell_type": "code",
   "execution_count": 72,
   "metadata": {
    "collapsed": true
   },
   "outputs": [],
   "source": [
    "def diputado_entidad(curricula):\n",
    "    EN_index = curricula.index('Entidad:')\n",
    "    entidad = curricula[EN_index + 1]\n",
    "    return entidad"
   ]
  },
  {
   "cell_type": "code",
   "execution_count": 73,
   "metadata": {
    "scrolled": true
   },
   "outputs": [
    {
     "name": "stdout",
     "output_type": "stream",
     "text": [
      "['Olga María Esquivel Hernández', 'Antonio Tarek Abdala Saad', 'Waldo Fernández González', 'Jerónimo Alejandro Ojeda Anguiano', 'Susana Corella Platt', 'Yarith Tannos Cruz', 'Baltazar Manuel Hinojosa Ochoa', 'Matias Nazario Morales', 'Carolina Monroy Del Mazo', 'Martha Lorena Covarrubias Anaya']\n",
      "\n",
      "\n",
      "['olga.esquivel@congreso.gob.mx', 'antonio.abdala@congreso.gob.mx', 'waldo.fernandez@congreso.gob.mx', 'jeronimo.ojeda@congreso.gob.mx', 'susana.corella@congreso.gob.mx', 'yarith.tannos@congreso.gob.mx', 'baltazar.hinojosa@congreso.gob.mx', 'matias.nazario@congreso.gob.mx', 'carolina.monroy@congreso.gob.mx', 'martha.covarrubias@congreso.gob.mx']\n",
      "\n",
      "\n",
      "['Mayoría Relativa', 'Mayoría Relativa', 'Representación proporcional', 'Mayoría Relativa', 'Mayoría Relativa', 'Mayoría Relativa', 'Representación proporcional', 'Representación proporcional', 'Mayoría Relativa', 'Mayoría Relativa']\n",
      "\n",
      "\n",
      "['México', 'Veracruz', 'Nuevo León', 'Ciudad de México', 'Sonora', 'Oaxaca', 'Tamaulipas', 'Morelos', 'México', 'Jalisco']\n"
     ]
    }
   ],
   "source": [
    "nombres = []\n",
    "mails = []\n",
    "elecciones = []\n",
    "entidades = []\n",
    "for diputado in diputados_random:\n",
    "    curricula = diputado_curricula('LXIII', diputado)\n",
    "    eleccion = diputado_eleccion(curricula)\n",
    "    elecciones.append(eleccion)\n",
    "    entidad = diputado_entidad(curricula)\n",
    "    entidades.append(entidad)\n",
    "    for informacion in curricula:\n",
    "        nombre = diputado_nombre(informacion)\n",
    "        mail = diputado_mail(informacion)\n",
    "        if nombre != False:\n",
    "            nombres.append(nombre)\n",
    "        else:\n",
    "            pass\n",
    "        if mail != False:\n",
    "            mails.append(mail)\n",
    "        else:\n",
    "            pass\n",
    "print(nombres)\n",
    "print('\\n')\n",
    "print(mails)\n",
    "print('\\n')\n",
    "print(elecciones)\n",
    "print('\\n')\n",
    "print(entidades)"
   ]
  },
  {
   "cell_type": "code",
   "execution_count": 74,
   "metadata": {
    "collapsed": true
   },
   "outputs": [],
   "source": [
    "curricula_agregada = pd.DataFrame({'1. Diputado': diputados_random,\n",
    "                                   '2. Nombre': nombres,\n",
    "                                   '3. e-mail': mails,\n",
    "                                   '4. Tipo de Elección': elecciones,\n",
    "                                   '5. Entidad': entidades})\n",
    "curricula_agregada.to_excel('curricula_agregada.xlsx')"
   ]
  },
  {
   "cell_type": "code",
   "execution_count": 75,
   "metadata": {},
   "outputs": [
    {
     "data": {
      "text/html": [
       "<div>\n",
       "<style>\n",
       "    .dataframe thead tr:only-child th {\n",
       "        text-align: right;\n",
       "    }\n",
       "\n",
       "    .dataframe thead th {\n",
       "        text-align: left;\n",
       "    }\n",
       "\n",
       "    .dataframe tbody tr th {\n",
       "        vertical-align: top;\n",
       "    }\n",
       "</style>\n",
       "<table border=\"1\" class=\"dataframe\">\n",
       "  <thead>\n",
       "    <tr style=\"text-align: right;\">\n",
       "      <th></th>\n",
       "      <th>1. Diputado</th>\n",
       "      <th>2. Nombre</th>\n",
       "      <th>3. e-mail</th>\n",
       "      <th>4. Tipo de Elección</th>\n",
       "      <th>5. Entidad</th>\n",
       "    </tr>\n",
       "  </thead>\n",
       "  <tbody>\n",
       "    <tr>\n",
       "      <th>0</th>\n",
       "      <td>165</td>\n",
       "      <td>Olga María Esquivel Hernández</td>\n",
       "      <td>olga.esquivel@congreso.gob.mx</td>\n",
       "      <td>Mayoría Relativa</td>\n",
       "      <td>México</td>\n",
       "    </tr>\n",
       "    <tr>\n",
       "      <th>1</th>\n",
       "      <td>287</td>\n",
       "      <td>Antonio Tarek Abdala Saad</td>\n",
       "      <td>antonio.abdala@congreso.gob.mx</td>\n",
       "      <td>Mayoría Relativa</td>\n",
       "      <td>Veracruz</td>\n",
       "    </tr>\n",
       "    <tr>\n",
       "      <th>2</th>\n",
       "      <td>369</td>\n",
       "      <td>Waldo Fernández González</td>\n",
       "      <td>waldo.fernandez@congreso.gob.mx</td>\n",
       "      <td>Representación proporcional</td>\n",
       "      <td>Nuevo León</td>\n",
       "    </tr>\n",
       "    <tr>\n",
       "      <th>3</th>\n",
       "      <td>64</td>\n",
       "      <td>Jerónimo Alejandro Ojeda Anguiano</td>\n",
       "      <td>jeronimo.ojeda@congreso.gob.mx</td>\n",
       "      <td>Mayoría Relativa</td>\n",
       "      <td>Ciudad de México</td>\n",
       "    </tr>\n",
       "    <tr>\n",
       "      <th>4</th>\n",
       "      <td>250</td>\n",
       "      <td>Susana Corella Platt</td>\n",
       "      <td>susana.corella@congreso.gob.mx</td>\n",
       "      <td>Mayoría Relativa</td>\n",
       "      <td>Sonora</td>\n",
       "    </tr>\n",
       "  </tbody>\n",
       "</table>\n",
       "</div>"
      ],
      "text/plain": [
       "   1. Diputado                          2. Nombre  \\\n",
       "0          165      Olga María Esquivel Hernández   \n",
       "1          287          Antonio Tarek Abdala Saad   \n",
       "2          369           Waldo Fernández González   \n",
       "3           64  Jerónimo Alejandro Ojeda Anguiano   \n",
       "4          250               Susana Corella Platt   \n",
       "\n",
       "                         3. e-mail          4. Tipo de Elección  \\\n",
       "0    olga.esquivel@congreso.gob.mx             Mayoría Relativa   \n",
       "1   antonio.abdala@congreso.gob.mx             Mayoría Relativa   \n",
       "2  waldo.fernandez@congreso.gob.mx  Representación proporcional   \n",
       "3   jeronimo.ojeda@congreso.gob.mx             Mayoría Relativa   \n",
       "4   susana.corella@congreso.gob.mx             Mayoría Relativa   \n",
       "\n",
       "         5. Entidad  \n",
       "0            México  \n",
       "1          Veracruz  \n",
       "2        Nuevo León  \n",
       "3  Ciudad de México  \n",
       "4            Sonora  "
      ]
     },
     "execution_count": 75,
     "metadata": {},
     "output_type": "execute_result"
    }
   ],
   "source": [
    "curricula_agregada.head()"
   ]
  },
  {
   "cell_type": "code",
   "execution_count": 35,
   "metadata": {
    "scrolled": false
   },
   "outputs": [
    {
     "name": "stdout",
     "output_type": "stream",
     "text": [
      "['Curricula LXIII', 'Dip. Jesús Gerardo Izquierdo Rojas', 'Tipo de elección:', 'Representación proporcional', 'Entidad:', 'Ciudad de México', 'Circunscripción:', '4', 'Curul:', 'J-350', 'Correo electrónico:', 'jesus.izquierdo@congreso.gob.mx', 'Onomástico:', '5-julio', 'Suplente:', 'Samuel Rodríguez Torres', 'ESPECIAL', 'De Participación ciudadana (Secretaría)', 'GRUPO DE AMISTAD', 'Corea del Sur', 'Costa Rica', 'ESCOLARIDAD', 'Licenciatura', 'Ciencias Políticas y Administración Pública', '1989-1994', 'Seminario', 'Marketing Político', '2003', 'Diplomado', 'Financiamiento del Desarrollo Municipal', '2008', 'Taller', 'Negociación y Comunicación Política', '2001', 'TRAYECTORIA POLÍTICA', 'Cargos Partidistas', 'PRI', 'CARGOS DE ELECCIÓN POPULAR', 'Regidor, México - Toluca', 'PRI', '1997-2000', 'ADMINISTRACIÓN PÚBLICA FEDERAL', 'Jefe de la Oficina de la Subsecretaría de Gobierno', 'Secretaría de Gobernación', '2012-2015', 'ADMINISTRACIÓN PÚBLICA LOCAL', 'Dirección de Proyectos de Vivienda Social', 'Instituto de Acción e Integración Social AURIS', '2002-2003', 'Asesor del Secretario', 'Secretaría de Agua y Obra Pública', '2004-2005', 'Director de Asuntos Metropolitanos del Valle de Toluca', 'Secretaría de Desarrollo Metropolitano', '2005-2008', 'Director General', 'Dirección General de Gobierno Ixtapan de la Sal', '2008-2009', 'Secretario Particular', 'Secretaría General de Gobierno', '2009-2011', 'ASOCIACIONES A LAS QUE PERTENECE', 'Miembro', 'Colegio de Ciencias Políticas y Administración Pública de México A.C.', '2002-2003']\n",
      "\n",
      "\n",
      "['Curricula LXIII', 'Dip. Gustavo Adolfo Cárdenas Gutiérrez', 'Tipo de elección:', 'Representación proporcional', 'Entidad:', 'Tamaulipas', 'Circunscripción:', '2', 'Curul:', 'I-325', 'Correo electrónico:', 'gustavo.cardenas@congreso.gob.mx', 'Onomástico:', '25-enero', 'Suplente:', 'Daniel Adrián Sosa Carpio', 'ORDINARIA', 'Marina (Presidente)', 'ESPECIAL', 'De la industria manufacturera y maquiladora', 'De puertos y marina mercante', 'Encargada de estudiar, analizar, evaluar y supervisar el funcionamiento de aduanas, puertos y aeropuertos nacionales', 'GRUPO DE AMISTAD', 'India', 'ESCOLARIDAD', 'Licenciatura', 'Administración de Empresas', '1978-1982', 'TRAYECTORIA POLÍTICA', 'Consejero Estatal', 'PAN', '1999-2000', 'Presidente del Comité Directivo Estatal', 'PAN', '1999-2000', 'Coordinador de la Comisión Operativa Estatal', 'MC', '2014- Actual', 'CARGOS DE ELECCIÓN POPULAR', 'Presidente Municipal, Tamaulipas - Victoria', 'PAN', '1993-1995', 'EXPERIENCIA LEGISLATIVA', 'Diputado Local Propietario, PAN', 'LVI Legislatura', '1996-1998', 'Senador de la República Propietario, PAN', 'LVIII Legislatura', '2000-2004', 'Diputado Federal Propietario, PAN', 'LX Legislatura', '2006', 'ADMINISTRACIÓN PÚBLICA FEDERAL', 'Coordinador General', 'Agencia de Servicios a la Comercialización y Desarrollo de Mercados Agropecuarios', '2007-2010', 'Actividad Empresarial', 'Director General', 'Gran Hotel Las Fuentes', 'Actual', 'Director General', 'Restaurante Don Jorge', 'Actual']\n",
      "\n",
      "\n",
      "['Curricula LXIII', 'Dip. Gonzalo Guízar Valladares', 'Tipo de elección:', 'Representación proporcional', 'Entidad:', 'Veracruz', 'Circunscripción:', '3', 'Curul:', 'M-499', 'Correo electrónico:', 'gonzalo.guizar@congreso.gob.mx', 'Onomástico:', '27-abril', 'Suplente:', 'Juan José García Espinosa', 'ORDINARIA', 'Asuntos Migratorios (Presidente)', 'Infraestructura (Secretaría)', 'Vigilancia de la Auditoría Superior de la Federación', 'ESPECIAL', 'Del Café', 'Para la prevención, conservación y, en su caso, restauración del medio ambiente en las entidadesfFederativas donde se ubican las instalaciones de PEMEX', 'Zonas económicas especiales', 'COMITÉ', 'Centro de Estudios de Derecho e Investigaciones Parlamentarias', 'GRUPO DE AMISTAD', 'Nueva Zelanda', 'Panamá', 'Vietnam', 'ESCOLARIDAD', 'Maestría', 'Ciencias con Especialidad en Administración', 'Licenciatura', 'Contador Público', '1980-1985', 'TRAYECTORIA POLÍTICA', 'Presidente CEM del Municipio de Coatzacoalcos, Veracruz', 'PRI', '1993', 'Presidente del CDE del Estado de Veracruz', 'PES', '2014', 'CARGOS DE ELECCIÓN POPULAR', 'Regidor, Veracruz - Coatzacoalcos', 'PRI', '1988-1991', 'EXPERIENCIA LEGISLATIVA', 'Diputado Federal Propietario, PRI', 'LIX Legislatura', '2003-2006', 'Diputado Local Propietario, PRI', 'LX Legislatura', '2007-2010', 'ADMINISTRACIÓN PÚBLICA LOCAL', 'Regidor', 'Municipio de Coatzacoalcos, Veracruz', '1988-1991', 'Contralor Interno', 'Secretaría de Finanzas y Planeación del estado de Veracruz', '1999-2001', 'Director General de Control y Evaluación', 'Contraloría General de Estado', '2001-2003']\n",
      "\n",
      "\n",
      "['Curricula LXIII', 'Dip. Eduardo Francisco Zenteno Núñez', 'Tipo de elección:', 'Representación proporcional', 'Entidad:', 'Chiapas', 'Circunscripción:', '3', 'Curul:', 'I-303', 'Correo electrónico:', 'yaret.guevara@congreso.gob.mx', 'Onomástico:', '31-diciembre', 'Suplente:', 'Francisco Elizondo Garrido', 'ORDINARIA', 'Competitividad (Secretaría)', 'Transportes (Secretaría)', 'Vigilancia de la Auditoría Superior de la Federación', 'ESCOLARIDAD', 'Maestría', 'Estudios Políticos Sociales', '2011-2013', 'Licenciatura', 'Derecho', '1988-1993', 'TRAYECTORIA POLÍTICA', 'Coordinador', 'PVEM', '2001-2003', 'Secretario de Organización B de la Comisión Ejecutiva Estatal', 'PVEM', '2003-2003', 'Secretario de Organización A de la Comisión Ejecutiva Estatal', 'PVEM', '2003-2007', 'Secretario de Elecciones del Comité Ejecutivo', 'PVEM', '2010-2012', 'EXPERIENCIA LEGISLATIVA', 'Diputado Local Propietario, PVEM', 'LXI Legislatura', '2004-2007', 'ADMINISTRACIÓN PÚBLICA FEDERAL', 'Profesional', 'Registro Agrario Nacional', '2001-2001', 'Delegado', 'Secretaría de Desarrollo Social', '2013-2015', 'ADMINISTRACIÓN PÚBLICA LOCAL', 'Fiscal del Distrito ITSMO Costa', 'Procuraduría General de Justica del Estado', '2007-2009', 'Fiscal del Distrito Altos', 'Procuraduría General de Justica del Estado', '2009-2009', 'Coordinador de Asesores', 'Secretaría de Gobierno', '2012-2013', 'Actividad Empresarial', 'Dirección Jurídica', 'Cultimex, S.A. de C.V.', '1995-1997', 'Abogado Postulante', 'Abogados y Asociados', '1997-1999', 'ASOCIACIONES A LAS QUE PERTENECE', 'Mujeres Vamos contigo', '2012', 'CARGOS EN LEGISLATURAS LOCALES O FEDERALES', 'Presidente de la Comisión de Juventud y Deporte, Congreso Local', 'LXI Legislatura']\n",
      "\n",
      "\n",
      "['Curricula LXIII', 'Dip. José Del Pilar Córdova Hernández', 'Tipo de elección:', 'Mayoría Relativa', 'Entidad:', 'Tabasco', 'Distrito:', '6', 'Curul:', 'L-458', 'Correo electrónico:', 'jose.cordova@congreso.gob.mx', 'Onomástico:', '12-octubre', 'Suplente:', 'Rogelio Betancourt González', 'ORDINARIA', 'Energía', 'Radio y Televisión', 'Trabajo y Previsión Social (Secretaría)', 'GRUPO DE AMISTAD', 'Bulgaria', 'Canadá', 'Trinidad y Tobago']\n",
      "\n",
      "\n",
      "['Curricula LXIII', 'Dip. Lillian Zepahua García', 'Tipo de elección:', 'Mayoría Relativa', 'Entidad:', 'Veracruz', 'Distrito:', '18', 'Curul:', 'M-490', 'Correo electrónico:', 'lillian.zepahua@congreso.gob.mx', 'Onomástico:', '14-marzo', 'Suplente:', 'Maricela Espinoza Silva', 'ORDINARIA', 'Asuntos Indígenas (Secretaría)', 'Relaciones Exteriores', 'Transportes (Secretaría)', 'ESPECIAL', 'De citricultura', 'De movilidad', 'GRUPO DE AMISTAD', 'Angola (Presidente)', 'Canadá', 'Polonia', 'ESCOLARIDAD', 'Maestría', 'Alta Dirección de Gobierno y Políticas Públicas', '2012-2014', 'Licenciatura', 'Administración de Empresas', '2000-2005', 'TRAYECTORIA POLÍTICA', 'Secretaria General de la Asociación Nacional de la Unidad Revolucionaria en el Estado de Veracruz', 'PRI', '2010-2014', 'Secretaria de Equidad y Género del Comité Directivo Estatal del PRI', 'PRI', 'febrero-agosto 2014', 'EXPERIENCIA LEGISLATIVA', 'Diputado Local Suplente, PRI', 'LXII Legislatura', '2012-2013', 'INICIATIVA PRIVADA', 'Gerente Administrativo', 'Autotransportes ADELAS S.A. de C.V.', '2006-2011']\n",
      "\n",
      "\n",
      "['Curricula LXIII', 'Dip. José Santiago López', 'Tipo de elección:', 'Mayoría Relativa', 'Entidad:', 'México', 'Distrito:', '20', 'Curul:', 'E-147', 'Correo electrónico:', 'jose.santiago@congreso.gob.mx', 'Onomástico:', '2-septiembre', 'Suplente:', 'Eduardo Villafuerte García', 'ORDINARIA', 'Cultura y Cinematografía', 'Deporte', 'Desarrollo Municipal (Secretaría)', 'GRUPO DE AMISTAD', 'Nicaragua (Presidente)', 'ESCOLARIDAD', 'Diplomado', 'Diplomado de forma TEXTO INCOMPLETO', 'del 4 de octubre TEXTO INCOMPLETO', 'Taller', 'Taller para autoridad TEXTO INCOMPLETO', '23, 24, 25 de TEXTO INCOMPLETO', 'Curso', 'Curso de Oratoria TEXTO INCOMPLETO', 'del 10 de abril TEXTO INCOMPLETO', 'Bachillerato', 'Nivel Medio Superior', 'TRAYECTORIA POLÍTICA', 'Fundador del PRD en Nezahualcóyotl', 'PRD', '1989', 'Secretario de Organización Comité Municipal', 'PRD', '1990 - 1993', 'Delegado Nacional', 'PRD', '2009 - 2011', 'Consejero Estatal', 'PRD', '2012 - 2014', 'CARGOS DE ELECCIÓN POPULAR', 'Síndico, México - Nezahualcóyotl', 'PRD', '2013 - 2015', 'ADMINISTRACIÓN PÚBLICA FEDERAL', 'Jefe de oficina', 'Secretaría de Hacienda y Crédito Público', '1992 - 2000', 'ADMINISTRACIÓN PÚBLICA LOCAL', 'Jefe de Departamento de TEXTO INCOMPLETO', 'H. Ayuntamiento Constitucional de TEXTO INCOMPLETO', '2001 - 2003']\n",
      "\n",
      "\n",
      "['Curricula LXIII', 'Dip. Jorge Tello López', 'Tipo de elección:', 'Representación proporcional', 'Entidad:', 'Oaxaca', 'Circunscripción:', '3', 'Curul:', 'J-369', 'Correo electrónico:', 'jorge.tello@congreso.gob.mx', 'Onomástico:', '23-abril', 'Suplente:', 'Elías Ojeda Aquino', 'ESCOLARIDAD', 'Carrera Trunca', 'Ing. Electromecánico', '2001', 'TRAYECTORIA POLÍTICA', 'Candidato a Diputación Local Oaxaca', 'Partido Unidad Popular', '2010', 'Candidato a la Presidencia Municipal, Santa Lucía del Camino', 'Partido Unidad Popular', '2013', 'ADMINISTRACIÓN PÚBLICA LOCAL', 'Jefe de Mantenimiento de Vehículos', 'Empleado del Gobierno del Estado de Oaxaca', '1988 - 1986', 'Jefe de Mantenimiento de Patrullas', 'Municipio de Oaxaca de Juárez', '1994 - 1996', 'ASOCIACIONES A LAS QUE PERTENECE', 'Gestoría de Proyectos Relacionados al Campo, Infraestructura Social, Educativo y Salud', 'Consejo Oaxaqueño de las Organizaciones de la Sociedad Civil', '2001 - 2015', 'SIN INFORMACIÓN', 'Asamblea de los Pueblos Indigenas \"API\"', 'SIN INFORMACIÓN']\n",
      "\n",
      "\n"
     ]
    },
    {
     "name": "stdout",
     "output_type": "stream",
     "text": [
      "['Curricula LXIII', 'Dip. Luis Ignacio Avendaño Bermúdez', 'Tipo de elección:', 'Mayoría Relativa', 'Entidad:', 'Chiapas', 'Distrito:', '8', 'Curul:', 'J-345', 'Correo electrónico:', 'luis.avendano@congreso.gob.mx', 'Onomástico:', '16-mayo', 'Suplente:', 'Uberly López Roblero', 'ESCOLARIDAD', 'Maestría', 'Administración Pública y Política Pública', '2013-2015', 'Licenciatura', 'Administración de Empresas', '1998-2002', 'TRAYECTORIA POLÍTICA', 'Presidente del Comité Directivo Municipal en Comitán, Chiapas', 'PVEM', '2010/2012 3 años', 'CARGOS DE ELECCIÓN POPULAR', 'Regidor, Chiapas - Comitán de Domínguez', 'PVEM', '2008-2010', 'Presidente Municipal, Chiapas - Comitán de Domínguez', 'PVEM', '2012-2014', 'INICIATIVA PRIVADA', 'Gerente General', 'Hotel Lagos de Monte Bello', '2002-2008 6 años']\n",
      "\n",
      "\n",
      "['Curricula LXIII', 'Dip. Juan Romero Tenorio', 'Tipo de elección:', 'Mayoría Relativa', 'Entidad:', 'Ciudad de México', 'Distrito:', '2', 'Curul:', 'J-371', 'Correo electrónico:', 'juan.romero@congreso.gob.mx', 'Onomástico:', '24-junio', 'Suplente:', 'Daniel Parra Huerta', 'ORDINARIA', 'Desarrollo Urbano y Ordenamiento Territorial (Secretaría)', 'Hacienda y Crédito Público (Secretaría)', 'Presupuesto y Cuenta Pública', 'ESPECIAL', 'Para combatir el uso de recursos ilícitos en los procesos electorales (Presidente)', 'GRUPO DE AMISTAD', 'Colombia', 'Irak', 'Singapur', 'ESCOLARIDAD', 'Licenciatura', 'Derecho']\n",
      "\n",
      "\n"
     ]
    }
   ],
   "source": [
    "for diputado in diputados_random:\n",
    "    print(diputado_curricula('LXIII', diputado))\n",
    "    print('\\n')"
   ]
  },
  {
   "cell_type": "code",
   "execution_count": null,
   "metadata": {
    "collapsed": true
   },
   "outputs": [],
   "source": []
  }
 ],
 "metadata": {
  "kernelspec": {
   "display_name": "Python 3",
   "language": "python",
   "name": "python3"
  },
  "language_info": {
   "codemirror_mode": {
    "name": "ipython",
    "version": 3
   },
   "file_extension": ".py",
   "mimetype": "text/x-python",
   "name": "python",
   "nbconvert_exporter": "python",
   "pygments_lexer": "ipython3",
   "version": "3.6.1"
  }
 },
 "nbformat": 4,
 "nbformat_minor": 2
}
